{
 "cells": [
  {
   "cell_type": "markdown",
   "id": "da798629",
   "metadata": {},
   "source": [
    "# Importando e Criando Banco de Dados"
   ]
  },
  {
   "cell_type": "code",
   "execution_count": 1,
   "id": "6dfb1be7",
   "metadata": {},
   "outputs": [],
   "source": [
    "# Importando as bibliotecas necessárias\n",
    "import sqlalchemy\n",
    "from sqlalchemy import create_engine, MetaData, Table, inspect"
   ]
  },
  {
   "cell_type": "code",
   "execution_count": 2,
   "id": "2e5b7449",
   "metadata": {},
   "outputs": [],
   "source": [
    "engine = create_engine(\"sqlite:///:memory\")  # Substitua pelo seu banco de dados"
   ]
  },
  {
   "cell_type": "code",
   "execution_count": 3,
   "id": "50b2f175",
   "metadata": {},
   "outputs": [],
   "source": [
    "# Código omitido\n",
    "\n",
    "url = \"https://raw.githubusercontent.com/alura-cursos/Pandas/main/clientes_banco.csv\""
   ]
  },
  {
   "cell_type": "code",
   "execution_count": null,
   "id": "0cd2ed76",
   "metadata": {},
   "outputs": [
    {
     "data": {
      "application/vnd.microsoft.datawrangler.viewer.v0+json": {
       "columns": [
        {
         "name": "index",
         "rawType": "int64",
         "type": "integer"
        },
        {
         "name": "ID_Cliente",
         "rawType": "int64",
         "type": "integer"
        },
        {
         "name": "Idade",
         "rawType": "int64",
         "type": "integer"
        },
        {
         "name": "Grau_escolaridade",
         "rawType": "object",
         "type": "string"
        },
        {
         "name": "Estado_civil",
         "rawType": "object",
         "type": "string"
        },
        {
         "name": "Tamanho_familia",
         "rawType": "int64",
         "type": "integer"
        },
        {
         "name": "Categoria_de_renda",
         "rawType": "object",
         "type": "string"
        },
        {
         "name": "Ocupacao",
         "rawType": "object",
         "type": "string"
        },
        {
         "name": "Anos_empregado",
         "rawType": "int64",
         "type": "integer"
        },
        {
         "name": "Rendimento_anual",
         "rawType": "float64",
         "type": "float"
        },
        {
         "name": "Tem_carro",
         "rawType": "int64",
         "type": "integer"
        },
        {
         "name": "Moradia",
         "rawType": "object",
         "type": "string"
        }
       ],
       "conversionMethod": "pd.DataFrame",
       "ref": "9842418b-446e-4bbe-ae46-dde646d02d32",
       "rows": [
        [
         "0",
         "5008804",
         "32",
         "Ensino superior",
         "União-estável",
         "2",
         "Empregado",
         "Outro",
         "12",
         "427500.0",
         "1",
         "Apartamento alugado"
        ],
        [
         "1",
         "5008805",
         "32",
         "Ensino superior",
         "União-estável",
         "2",
         "Empregado",
         "Outro",
         "12",
         "427500.0",
         "1",
         "Apartamento alugado"
        ],
        [
         "2",
         "5008806",
         "58",
         "Ensino médio",
         "Casado",
         "2",
         "Empregado",
         "Segurança",
         "3",
         "112500.0",
         "1",
         "Casa/apartamento próprio"
        ],
        [
         "3",
         "5008808",
         "52",
         "Ensino médio",
         "Solteiro",
         "1",
         "Associado comercial",
         "Vendas",
         "8",
         "270000.0",
         "0",
         "Casa/apartamento próprio"
        ],
        [
         "4",
         "5008809",
         "52",
         "Ensino médio",
         "Solteiro",
         "1",
         "Associado comercial",
         "Vendas",
         "8",
         "270000.0",
         "0",
         "Casa/apartamento próprio"
        ]
       ],
       "shape": {
        "columns": 11,
        "rows": 5
       }
      },
      "text/html": [
       "<div>\n",
       "<style scoped>\n",
       "    .dataframe tbody tr th:only-of-type {\n",
       "        vertical-align: middle;\n",
       "    }\n",
       "\n",
       "    .dataframe tbody tr th {\n",
       "        vertical-align: top;\n",
       "    }\n",
       "\n",
       "    .dataframe thead th {\n",
       "        text-align: right;\n",
       "    }\n",
       "</style>\n",
       "<table border=\"1\" class=\"dataframe\">\n",
       "  <thead>\n",
       "    <tr style=\"text-align: right;\">\n",
       "      <th></th>\n",
       "      <th>ID_Cliente</th>\n",
       "      <th>Idade</th>\n",
       "      <th>Grau_escolaridade</th>\n",
       "      <th>Estado_civil</th>\n",
       "      <th>Tamanho_familia</th>\n",
       "      <th>Categoria_de_renda</th>\n",
       "      <th>Ocupacao</th>\n",
       "      <th>Anos_empregado</th>\n",
       "      <th>Rendimento_anual</th>\n",
       "      <th>Tem_carro</th>\n",
       "      <th>Moradia</th>\n",
       "    </tr>\n",
       "  </thead>\n",
       "  <tbody>\n",
       "    <tr>\n",
       "      <th>0</th>\n",
       "      <td>5008804</td>\n",
       "      <td>32</td>\n",
       "      <td>Ensino superior</td>\n",
       "      <td>União-estável</td>\n",
       "      <td>2</td>\n",
       "      <td>Empregado</td>\n",
       "      <td>Outro</td>\n",
       "      <td>12</td>\n",
       "      <td>427500.0</td>\n",
       "      <td>1</td>\n",
       "      <td>Apartamento alugado</td>\n",
       "    </tr>\n",
       "    <tr>\n",
       "      <th>1</th>\n",
       "      <td>5008805</td>\n",
       "      <td>32</td>\n",
       "      <td>Ensino superior</td>\n",
       "      <td>União-estável</td>\n",
       "      <td>2</td>\n",
       "      <td>Empregado</td>\n",
       "      <td>Outro</td>\n",
       "      <td>12</td>\n",
       "      <td>427500.0</td>\n",
       "      <td>1</td>\n",
       "      <td>Apartamento alugado</td>\n",
       "    </tr>\n",
       "    <tr>\n",
       "      <th>2</th>\n",
       "      <td>5008806</td>\n",
       "      <td>58</td>\n",
       "      <td>Ensino médio</td>\n",
       "      <td>Casado</td>\n",
       "      <td>2</td>\n",
       "      <td>Empregado</td>\n",
       "      <td>Segurança</td>\n",
       "      <td>3</td>\n",
       "      <td>112500.0</td>\n",
       "      <td>1</td>\n",
       "      <td>Casa/apartamento próprio</td>\n",
       "    </tr>\n",
       "    <tr>\n",
       "      <th>3</th>\n",
       "      <td>5008808</td>\n",
       "      <td>52</td>\n",
       "      <td>Ensino médio</td>\n",
       "      <td>Solteiro</td>\n",
       "      <td>1</td>\n",
       "      <td>Associado comercial</td>\n",
       "      <td>Vendas</td>\n",
       "      <td>8</td>\n",
       "      <td>270000.0</td>\n",
       "      <td>0</td>\n",
       "      <td>Casa/apartamento próprio</td>\n",
       "    </tr>\n",
       "    <tr>\n",
       "      <th>4</th>\n",
       "      <td>5008809</td>\n",
       "      <td>52</td>\n",
       "      <td>Ensino médio</td>\n",
       "      <td>Solteiro</td>\n",
       "      <td>1</td>\n",
       "      <td>Associado comercial</td>\n",
       "      <td>Vendas</td>\n",
       "      <td>8</td>\n",
       "      <td>270000.0</td>\n",
       "      <td>0</td>\n",
       "      <td>Casa/apartamento próprio</td>\n",
       "    </tr>\n",
       "  </tbody>\n",
       "</table>\n",
       "</div>"
      ],
      "text/plain": [
       "   ID_Cliente  Idade Grau_escolaridade   Estado_civil  Tamanho_familia  \\\n",
       "0     5008804     32   Ensino superior  União-estável                2   \n",
       "1     5008805     32   Ensino superior  União-estável                2   \n",
       "2     5008806     58      Ensino médio         Casado                2   \n",
       "3     5008808     52      Ensino médio       Solteiro                1   \n",
       "4     5008809     52      Ensino médio       Solteiro                1   \n",
       "\n",
       "    Categoria_de_renda   Ocupacao  Anos_empregado  Rendimento_anual  \\\n",
       "0            Empregado      Outro              12          427500.0   \n",
       "1            Empregado      Outro              12          427500.0   \n",
       "2            Empregado  Segurança               3          112500.0   \n",
       "3  Associado comercial     Vendas               8          270000.0   \n",
       "4  Associado comercial     Vendas               8          270000.0   \n",
       "\n",
       "   Tem_carro                   Moradia  \n",
       "0          1       Apartamento alugado  \n",
       "1          1       Apartamento alugado  \n",
       "2          1  Casa/apartamento próprio  \n",
       "3          0  Casa/apartamento próprio  \n",
       "4          0  Casa/apartamento próprio  "
      ]
     },
     "execution_count": 4,
     "metadata": {},
     "output_type": "execute_result"
    }
   ],
   "source": [
    "import pandas as pd\n",
    "\n",
    "dados = pd.read_csv(url)  # Lê o arquivo CSV diretamente da URL\n",
    "dados.head()"
   ]
  },
  {
   "cell_type": "code",
   "execution_count": 6,
   "id": "6972bd08",
   "metadata": {},
   "outputs": [
    {
     "name": "stdout",
     "output_type": "stream",
     "text": [
      "[]\n"
     ]
    },
    {
     "data": {
      "text/plain": [
       "['clientes.db']"
      ]
     },
     "execution_count": 6,
     "metadata": {},
     "output_type": "execute_result"
    }
   ],
   "source": [
    "engine = create_engine(\"sqlite:///clientes.db\")  # Substitua pelo seu banco de dados\n",
    "\n",
    "inspector = inspect(engine)\n",
    "\n",
    "print(inspector.get_table_names())\n",
    "\n",
    "[\"clientes.db\"]"
   ]
  },
  {
   "cell_type": "code",
   "execution_count": null,
   "id": "42c47943",
   "metadata": {},
   "outputs": [],
   "source": [
    "# Salva o DataFrame como tabela 'clientes' no banco de dados, se ainda não existir\n",
    "dados.to_sql(\"clientes\", engine, if_exists=\"replace\", index=False)\n",
    "\n",
    "query = \"SELECT * FROM clientes WHERE Categoria_de_renda= 'Empregado'\"\n",
    "empregados = pd.read_sql(query, engine)  # Lê os dados filtrados"
   ]
  },
  {
   "cell_type": "code",
   "execution_count": null,
   "id": "c0195119",
   "metadata": {},
   "outputs": [
    {
     "data": {
      "text/plain": [
       "226059"
      ]
     },
     "execution_count": 14,
     "metadata": {},
     "output_type": "execute_result"
    }
   ],
   "source": [
    "empregados.to_sql(\"empregados\", con=engine, index=False, if_exists=\"replace\")"
   ]
  },
  {
   "cell_type": "code",
   "execution_count": 16,
   "id": "42f08b01",
   "metadata": {},
   "outputs": [
    {
     "data": {
      "application/vnd.microsoft.datawrangler.viewer.v0+json": {
       "columns": [
        {
         "name": "index",
         "rawType": "int64",
         "type": "integer"
        },
        {
         "name": "ID_Cliente",
         "rawType": "int64",
         "type": "integer"
        },
        {
         "name": "Grau_escolaridade",
         "rawType": "object",
         "type": "string"
        },
        {
         "name": "Rendimento_anual",
         "rawType": "float64",
         "type": "float"
        }
       ],
       "conversionMethod": "pd.DataFrame",
       "ref": "f8f8343b-6a7b-40f9-af11-61a188b42f2b",
       "rows": [
        [
         "0",
         "5008804",
         "Ensino superior",
         "427500.0"
        ],
        [
         "1",
         "5008805",
         "Ensino superior",
         "427500.0"
        ],
        [
         "2",
         "5008806",
         "Ensino médio",
         "112500.0"
        ],
        [
         "3",
         "5008815",
         "Ensino superior",
         "270000.0"
        ],
        [
         "4",
         "5112956",
         "Ensino superior",
         "270000.0"
        ],
        [
         "5",
         "6153651",
         "Ensino superior",
         "270000.0"
        ],
        [
         "6",
         "5008825",
         "Ensino superior incompleto",
         "130500.0"
        ],
        [
         "7",
         "5008826",
         "Ensino superior incompleto",
         "130500.0"
        ],
        [
         "8",
         "5008830",
         "Ensino médio",
         "157500.0"
        ],
        [
         "9",
         "5008831",
         "Ensino médio",
         "157500.0"
        ],
        [
         "10",
         "5008832",
         "Ensino médio",
         "157500.0"
        ],
        [
         "11",
         "5008834",
         "Ensino médio",
         "112500.0"
        ],
        [
         "12",
         "5008835",
         "Ensino médio",
         "112500.0"
        ],
        [
         "13",
         "6153712",
         "Ensino médio",
         "112500.0"
        ],
        [
         "14",
         "5008836",
         "Ensino médio",
         "270000.0"
        ],
        [
         "15",
         "5008837",
         "Ensino médio",
         "270000.0"
        ],
        [
         "16",
         "5008854",
         "Ensino médio",
         "135000.0"
        ],
        [
         "17",
         "5008855",
         "Ensino médio",
         "135000.0"
        ],
        [
         "18",
         "5008856",
         "Ensino médio",
         "135000.0"
        ],
        [
         "19",
         "5008857",
         "Ensino médio",
         "135000.0"
        ],
        [
         "20",
         "5008858",
         "Ensino médio",
         "135000.0"
        ],
        [
         "21",
         "5008859",
         "Ensino médio",
         "135000.0"
        ],
        [
         "22",
         "5008860",
         "Ensino médio",
         "135000.0"
        ],
        [
         "23",
         "5008861",
         "Ensino médio",
         "135000.0"
        ],
        [
         "24",
         "5008862",
         "Ensino médio",
         "135000.0"
        ],
        [
         "25",
         "5008863",
         "Ensino médio",
         "135000.0"
        ],
        [
         "26",
         "5008864",
         "Ensino médio",
         "135000.0"
        ],
        [
         "27",
         "5008865",
         "Ensino médio",
         "135000.0"
        ],
        [
         "28",
         "5008866",
         "Ensino médio",
         "135000.0"
        ],
        [
         "29",
         "5008867",
         "Ensino médio",
         "135000.0"
        ],
        [
         "30",
         "5112846",
         "Ensino médio",
         "135000.0"
        ],
        [
         "31",
         "6153736",
         "Ensino médio",
         "135000.0"
        ],
        [
         "32",
         "5008947",
         "Ensino médio",
         "135000.0"
        ],
        [
         "33",
         "5008948",
         "Ensino médio",
         "135000.0"
        ],
        [
         "34",
         "5008949",
         "Ensino médio",
         "135000.0"
        ],
        [
         "35",
         "5008950",
         "Ensino médio",
         "135000.0"
        ],
        [
         "36",
         "5008951",
         "Ensino médio",
         "225000.0"
        ],
        [
         "37",
         "5008952",
         "Ensino médio",
         "225000.0"
        ],
        [
         "38",
         "5008953",
         "Ensino médio",
         "225000.0"
        ],
        [
         "39",
         "5008954",
         "Ensino médio",
         "225000.0"
        ],
        [
         "40",
         "5008955",
         "Ensino médio",
         "135000.0"
        ],
        [
         "41",
         "5008956",
         "Ensino médio",
         "135000.0"
        ],
        [
         "42",
         "5008957",
         "Ensino médio",
         "135000.0"
        ],
        [
         "43",
         "5008958",
         "Ensino médio",
         "135000.0"
        ],
        [
         "44",
         "5008959",
         "Ensino médio",
         "135000.0"
        ],
        [
         "45",
         "5008960",
         "Ensino médio",
         "135000.0"
        ],
        [
         "46",
         "5008962",
         "Ensino médio",
         "135000.0"
        ],
        [
         "47",
         "5008963",
         "Ensino médio",
         "135000.0"
        ],
        [
         "48",
         "5008966",
         "Ensino médio",
         "157500.0"
        ],
        [
         "49",
         "5008967",
         "Ensino médio",
         "157500.0"
        ]
       ],
       "shape": {
        "columns": 3,
        "rows": 226059
       }
      },
      "text/html": [
       "<div>\n",
       "<style scoped>\n",
       "    .dataframe tbody tr th:only-of-type {\n",
       "        vertical-align: middle;\n",
       "    }\n",
       "\n",
       "    .dataframe tbody tr th {\n",
       "        vertical-align: top;\n",
       "    }\n",
       "\n",
       "    .dataframe thead th {\n",
       "        text-align: right;\n",
       "    }\n",
       "</style>\n",
       "<table border=\"1\" class=\"dataframe\">\n",
       "  <thead>\n",
       "    <tr style=\"text-align: right;\">\n",
       "      <th></th>\n",
       "      <th>ID_Cliente</th>\n",
       "      <th>Grau_escolaridade</th>\n",
       "      <th>Rendimento_anual</th>\n",
       "    </tr>\n",
       "  </thead>\n",
       "  <tbody>\n",
       "    <tr>\n",
       "      <th>0</th>\n",
       "      <td>5008804</td>\n",
       "      <td>Ensino superior</td>\n",
       "      <td>427500.0</td>\n",
       "    </tr>\n",
       "    <tr>\n",
       "      <th>1</th>\n",
       "      <td>5008805</td>\n",
       "      <td>Ensino superior</td>\n",
       "      <td>427500.0</td>\n",
       "    </tr>\n",
       "    <tr>\n",
       "      <th>2</th>\n",
       "      <td>5008806</td>\n",
       "      <td>Ensino médio</td>\n",
       "      <td>112500.0</td>\n",
       "    </tr>\n",
       "    <tr>\n",
       "      <th>3</th>\n",
       "      <td>5008815</td>\n",
       "      <td>Ensino superior</td>\n",
       "      <td>270000.0</td>\n",
       "    </tr>\n",
       "    <tr>\n",
       "      <th>4</th>\n",
       "      <td>5112956</td>\n",
       "      <td>Ensino superior</td>\n",
       "      <td>270000.0</td>\n",
       "    </tr>\n",
       "    <tr>\n",
       "      <th>...</th>\n",
       "      <td>...</td>\n",
       "      <td>...</td>\n",
       "      <td>...</td>\n",
       "    </tr>\n",
       "    <tr>\n",
       "      <th>226054</th>\n",
       "      <td>6837905</td>\n",
       "      <td>Ensino médio</td>\n",
       "      <td>355050.0</td>\n",
       "    </tr>\n",
       "    <tr>\n",
       "      <th>226055</th>\n",
       "      <td>6837906</td>\n",
       "      <td>Ensino médio</td>\n",
       "      <td>355050.0</td>\n",
       "    </tr>\n",
       "    <tr>\n",
       "      <th>226056</th>\n",
       "      <td>6839936</td>\n",
       "      <td>Ensino médio</td>\n",
       "      <td>135000.0</td>\n",
       "    </tr>\n",
       "    <tr>\n",
       "      <th>226057</th>\n",
       "      <td>6840222</td>\n",
       "      <td>Ensino médio</td>\n",
       "      <td>103500.0</td>\n",
       "    </tr>\n",
       "    <tr>\n",
       "      <th>226058</th>\n",
       "      <td>6842885</td>\n",
       "      <td>Ensino médio</td>\n",
       "      <td>121500.0</td>\n",
       "    </tr>\n",
       "  </tbody>\n",
       "</table>\n",
       "<p>226059 rows × 3 columns</p>\n",
       "</div>"
      ],
      "text/plain": [
       "        ID_Cliente Grau_escolaridade  Rendimento_anual\n",
       "0          5008804   Ensino superior          427500.0\n",
       "1          5008805   Ensino superior          427500.0\n",
       "2          5008806      Ensino médio          112500.0\n",
       "3          5008815   Ensino superior          270000.0\n",
       "4          5112956   Ensino superior          270000.0\n",
       "...            ...               ...               ...\n",
       "226054     6837905      Ensino médio          355050.0\n",
       "226055     6837906      Ensino médio          355050.0\n",
       "226056     6839936      Ensino médio          135000.0\n",
       "226057     6840222      Ensino médio          103500.0\n",
       "226058     6842885      Ensino médio          121500.0\n",
       "\n",
       "[226059 rows x 3 columns]"
      ]
     },
     "execution_count": 16,
     "metadata": {},
     "output_type": "execute_result"
    }
   ],
   "source": [
    "pd.read_sql_table(\n",
    "    \"empregados\",\n",
    "    con=engine,\n",
    "    columns=[\"ID_Cliente\", \"Grau_escolaridade\", \"Rendimento_anual\"],\n",
    ")  # Lê a tabela 'empregados' do banco de dados e a armazena em um DataFrame"
   ]
  },
  {
   "cell_type": "markdown",
   "id": "88ab41d3",
   "metadata": {},
   "source": [
    "#  Métodos atualizados para interação com o banco de dados"
   ]
  },
  {
   "cell_type": "markdown",
   "id": "62b461b3",
   "metadata": {},
   "source": [
    "Após ler todos os registros da tabela clientes, é fundamental iniciar importando a função text do SQLAlchemy. Esta função é essencial para criar e executar expressões SQL literais dentro do seu código Python. Ao utilizar text, você pode inserir diretamente instruções SQL que o SQLAlchemy compreenderá e executará:"
   ]
  },
  {
   "cell_type": "code",
   "execution_count": 17,
   "id": "bc57d1be",
   "metadata": {},
   "outputs": [],
   "source": [
    "from sqlalchemy import text"
   ]
  },
  {
   "cell_type": "markdown",
   "id": "edebc74d",
   "metadata": {},
   "source": [
    "Para deletar um registro na tabela clientes, agora utilizamos a seguinte estrutura:"
   ]
  },
  {
   "cell_type": "code",
   "execution_count": 18,
   "id": "9d039623",
   "metadata": {},
   "outputs": [],
   "source": [
    "query = \"DELETE FROM clientes WHERE ID_Cliente=5008804\"\n",
    "with engine.connect() as conn:\n",
    "    result = conn.execute(text(query))\n",
    "    conn.commit()"
   ]
  },
  {
   "cell_type": "markdown",
   "id": "23c6a50d",
   "metadata": {},
   "source": [
    "Vamos quebrar o código em partes para entender melhor cada etapa:\n",
    "\n",
    "Definição da consulta SQL: Primeiro, definimos o que queremos fazer com o banco de dados em uma string de consulta SQL, armazenada na variável query. Aqui, o comando DELETE é usado para remover o registro de um cliente específico, identificado pelo ID_Cliente=5008804.\n",
    "\n",
    "Estabelecendo conexão com o banco de dados: Usamos with engine.connect() as conn para abrir uma conexão com o banco. O with é muito útil porque gerencia automaticamente a abertura e o fechamento da conexão. Isso significa que, após o bloco de código ser executado, a conexão será fechada automaticamente, evitando que recursos sejam desperdiçados ou bloqueios no banco de dados se prolonguem.\n",
    "\n",
    "Executando a consulta: Dentro do bloco with, executamos a consulta com conn.execute(text(query)). A função text() é usada aqui para garantir que a string de consulta seja interpretada como SQL puro.\n",
    "\n",
    "Confirmar a transação: Por fim, chamamos conn.commit() para confirmar a transação. Isso é crucial porque, em muitos bancos de dados, as alterações feitas (como deletar um registro) não são salvas permanentemente até que sejam confirmadas explicitamente."
   ]
  },
  {
   "cell_type": "markdown",
   "id": "d8cf3145",
   "metadata": {},
   "source": [
    "Este processo garante que o registro seja removido de forma segura e eficiente, minimizando a possibilidade de erros ou problemas de segurança.\n",
    "\n",
    "De maneira similar, para atualizar informações de um registro, como o grau de escolaridade de um cliente, você pode proceder da seguinte forma:"
   ]
  },
  {
   "cell_type": "code",
   "execution_count": 19,
   "id": "353d32ec",
   "metadata": {},
   "outputs": [],
   "source": [
    "query = (\n",
    "    'UPDATE clientes SET Grau_escolaridade=\"Ensino superior\" WHERE ID_Cliente=5008808'\n",
    ")\n",
    "with engine.connect() as conn:\n",
    "    result = conn.execute(text(query))\n",
    "    conn.commit()"
   ]
  },
  {
   "cell_type": "markdown",
   "id": "0f9b2f38",
   "metadata": {},
   "source": [
    "Aqui, a conexão é estabelecida novamente, a consulta de atualização é executada para alterar o grau de escolaridade do cliente com ID 5008808 para \"Ensino superior\", e a transação é confirmada.\n",
    "\n",
    "Estes passos são cruciais para manipular dados de forma segura e eficaz, utilizando as funcionalidades mais recentes do SQLAlchemy"
   ]
  },
  {
   "cell_type": "code",
   "execution_count": 24,
   "id": "0cc71a66",
   "metadata": {},
   "outputs": [
    {
     "data": {
      "application/vnd.microsoft.datawrangler.viewer.v0+json": {
       "columns": [
        {
         "name": "index",
         "rawType": "int64",
         "type": "integer"
        },
        {
         "name": "ID_Cliente",
         "rawType": "int64",
         "type": "integer"
        },
        {
         "name": "Idade",
         "rawType": "int64",
         "type": "integer"
        },
        {
         "name": "Grau_escolaridade",
         "rawType": "object",
         "type": "string"
        },
        {
         "name": "Estado_civil",
         "rawType": "object",
         "type": "string"
        },
        {
         "name": "Tamanho_familia",
         "rawType": "int64",
         "type": "integer"
        },
        {
         "name": "Categoria_de_renda",
         "rawType": "object",
         "type": "string"
        },
        {
         "name": "Ocupacao",
         "rawType": "object",
         "type": "string"
        },
        {
         "name": "Anos_empregado",
         "rawType": "int64",
         "type": "integer"
        },
        {
         "name": "Rendimento_anual",
         "rawType": "float64",
         "type": "float"
        },
        {
         "name": "Tem_carro",
         "rawType": "int64",
         "type": "integer"
        },
        {
         "name": "Moradia",
         "rawType": "object",
         "type": "string"
        }
       ],
       "conversionMethod": "pd.DataFrame",
       "ref": "34b76703-dd34-498f-aed3-d74fe34c09ab",
       "rows": [
        [
         "0",
         "5008805",
         "32",
         "Ensino superior",
         "União-estável",
         "2",
         "Empregado",
         "Outro",
         "12",
         "427500.0",
         "1",
         "Apartamento alugado"
        ],
        [
         "1",
         "5008806",
         "58",
         "Ensino médio",
         "Casado",
         "2",
         "Empregado",
         "Segurança",
         "3",
         "112500.0",
         "1",
         "Casa/apartamento próprio"
        ],
        [
         "2",
         "5008808",
         "52",
         "Ensino superior",
         "Solteiro",
         "1",
         "Associado comercial",
         "Vendas",
         "8",
         "270000.0",
         "0",
         "Casa/apartamento próprio"
        ],
        [
         "3",
         "5008809",
         "52",
         "Ensino médio",
         "Solteiro",
         "1",
         "Associado comercial",
         "Vendas",
         "8",
         "270000.0",
         "0",
         "Casa/apartamento próprio"
        ],
        [
         "4",
         "5008810",
         "52",
         "Ensino médio",
         "Solteiro",
         "1",
         "Associado comercial",
         "Vendas",
         "8",
         "270000.0",
         "0",
         "Casa/apartamento próprio"
        ],
        [
         "5",
         "5008811",
         "52",
         "Ensino médio",
         "Solteiro",
         "1",
         "Associado comercial",
         "Vendas",
         "8",
         "270000.0",
         "0",
         "Casa/apartamento próprio"
        ],
        [
         "6",
         "5008812",
         "61",
         "Ensino superior",
         "Divorciado",
         "1",
         "Pensionista",
         "Outro",
         "0",
         "283500.0",
         "0",
         "Casa/apartamento próprio"
        ],
        [
         "7",
         "5008813",
         "61",
         "Ensino superior",
         "Divorciado",
         "1",
         "Pensionista",
         "Outro",
         "0",
         "283500.0",
         "0",
         "Casa/apartamento próprio"
        ],
        [
         "8",
         "5008814",
         "61",
         "Ensino superior",
         "Divorciado",
         "1",
         "Pensionista",
         "Outro",
         "0",
         "283500.0",
         "0",
         "Casa/apartamento próprio"
        ],
        [
         "9",
         "5008815",
         "46",
         "Ensino superior",
         "Casado",
         "2",
         "Empregado",
         "Contabilidade",
         "2",
         "270000.0",
         "1",
         "Casa/apartamento próprio"
        ],
        [
         "10",
         "5112956",
         "46",
         "Ensino superior",
         "Casado",
         "2",
         "Empregado",
         "Contabilidade",
         "2",
         "270000.0",
         "1",
         "Casa/apartamento próprio"
        ],
        [
         "11",
         "6153651",
         "46",
         "Ensino superior",
         "Casado",
         "2",
         "Empregado",
         "Contabilidade",
         "2",
         "270000.0",
         "1",
         "Casa/apartamento próprio"
        ],
        [
         "12",
         "5008819",
         "48",
         "Ensino médio",
         "Casado",
         "2",
         "Associado comercial",
         "Construção Civil",
         "3",
         "135000.0",
         "1",
         "Casa/apartamento próprio"
        ],
        [
         "13",
         "5008820",
         "48",
         "Ensino médio",
         "Casado",
         "2",
         "Associado comercial",
         "Construção Civil",
         "3",
         "135000.0",
         "1",
         "Casa/apartamento próprio"
        ],
        [
         "14",
         "5008821",
         "48",
         "Ensino médio",
         "Casado",
         "2",
         "Associado comercial",
         "Construção Civil",
         "3",
         "135000.0",
         "1",
         "Casa/apartamento próprio"
        ],
        [
         "15",
         "5008822",
         "48",
         "Ensino médio",
         "Casado",
         "2",
         "Associado comercial",
         "Construção Civil",
         "3",
         "135000.0",
         "1",
         "Casa/apartamento próprio"
        ],
        [
         "16",
         "5008823",
         "48",
         "Ensino médio",
         "Casado",
         "2",
         "Associado comercial",
         "Construção Civil",
         "3",
         "135000.0",
         "1",
         "Casa/apartamento próprio"
        ],
        [
         "17",
         "5008824",
         "48",
         "Ensino médio",
         "Casado",
         "2",
         "Associado comercial",
         "Construção Civil",
         "3",
         "135000.0",
         "1",
         "Casa/apartamento próprio"
        ],
        [
         "18",
         "5008825",
         "29",
         "Ensino superior incompleto",
         "Casado",
         "2",
         "Empregado",
         "Contabilidade",
         "3",
         "130500.0",
         "1",
         "Casa/apartamento próprio"
        ],
        [
         "19",
         "5008826",
         "29",
         "Ensino superior incompleto",
         "Casado",
         "2",
         "Empregado",
         "Contabilidade",
         "3",
         "130500.0",
         "1",
         "Casa/apartamento próprio"
        ],
        [
         "20",
         "5008830",
         "27",
         "Ensino médio",
         "Casado",
         "2",
         "Empregado",
         "Construção Civil",
         "4",
         "157500.0",
         "0",
         "Casa/apartamento próprio"
        ],
        [
         "21",
         "5008831",
         "27",
         "Ensino médio",
         "Casado",
         "2",
         "Empregado",
         "Construção Civil",
         "4",
         "157500.0",
         "0",
         "Casa/apartamento próprio"
        ],
        [
         "22",
         "5008832",
         "27",
         "Ensino médio",
         "Casado",
         "2",
         "Empregado",
         "Construção Civil",
         "4",
         "157500.0",
         "0",
         "Casa/apartamento próprio"
        ],
        [
         "23",
         "5008834",
         "30",
         "Ensino médio",
         "Solteiro",
         "2",
         "Empregado",
         "Outro",
         "4",
         "112500.0",
         "0",
         "Casa/apartamento próprio"
        ],
        [
         "24",
         "5008835",
         "30",
         "Ensino médio",
         "Solteiro",
         "2",
         "Empregado",
         "Outro",
         "4",
         "112500.0",
         "0",
         "Casa/apartamento próprio"
        ],
        [
         "25",
         "6153712",
         "30",
         "Ensino médio",
         "Solteiro",
         "2",
         "Empregado",
         "Outro",
         "4",
         "112500.0",
         "0",
         "Casa/apartamento próprio"
        ],
        [
         "26",
         "5008836",
         "34",
         "Ensino médio",
         "Casado",
         "5",
         "Empregado",
         "Construção Civil",
         "3",
         "270000.0",
         "1",
         "Casa/apartamento próprio"
        ],
        [
         "27",
         "5008837",
         "34",
         "Ensino médio",
         "Casado",
         "5",
         "Empregado",
         "Construção Civil",
         "3",
         "270000.0",
         "1",
         "Casa/apartamento próprio"
        ],
        [
         "28",
         "5008838",
         "32",
         "Ensino superior",
         "Casado",
         "3",
         "Associado comercial",
         "Gerência",
         "5",
         "405000.0",
         "0",
         "Casa/apartamento próprio"
        ],
        [
         "29",
         "5008839",
         "32",
         "Ensino superior",
         "Casado",
         "3",
         "Associado comercial",
         "Gerência",
         "5",
         "405000.0",
         "0",
         "Casa/apartamento próprio"
        ],
        [
         "30",
         "5008840",
         "32",
         "Ensino superior",
         "Casado",
         "3",
         "Associado comercial",
         "Gerência",
         "5",
         "405000.0",
         "0",
         "Casa/apartamento próprio"
        ],
        [
         "31",
         "5008841",
         "32",
         "Ensino superior",
         "Casado",
         "3",
         "Associado comercial",
         "Gerência",
         "5",
         "405000.0",
         "0",
         "Casa/apartamento próprio"
        ],
        [
         "32",
         "5008842",
         "32",
         "Ensino superior",
         "Casado",
         "3",
         "Associado comercial",
         "Gerência",
         "5",
         "405000.0",
         "0",
         "Casa/apartamento próprio"
        ],
        [
         "33",
         "5008843",
         "32",
         "Ensino superior",
         "Casado",
         "3",
         "Associado comercial",
         "Gerência",
         "5",
         "405000.0",
         "0",
         "Casa/apartamento próprio"
        ],
        [
         "34",
         "5008844",
         "56",
         "Ensino médio",
         "Casado",
         "2",
         "Associado comercial",
         "Motorista",
         "12",
         "112500.0",
         "1",
         "Casa/apartamento próprio"
        ],
        [
         "35",
         "5008846",
         "56",
         "Ensino médio",
         "Casado",
         "2",
         "Associado comercial",
         "Motorista",
         "12",
         "112500.0",
         "1",
         "Casa/apartamento próprio"
        ],
        [
         "36",
         "5008847",
         "56",
         "Ensino médio",
         "Casado",
         "2",
         "Associado comercial",
         "Motorista",
         "12",
         "112500.0",
         "1",
         "Casa/apartamento próprio"
        ],
        [
         "37",
         "5008849",
         "56",
         "Ensino médio",
         "Casado",
         "2",
         "Associado comercial",
         "Motorista",
         "12",
         "112500.0",
         "1",
         "Casa/apartamento próprio"
        ],
        [
         "38",
         "5008850",
         "56",
         "Ensino médio",
         "Casado",
         "2",
         "Associado comercial",
         "Motorista",
         "12",
         "112500.0",
         "1",
         "Casa/apartamento próprio"
        ],
        [
         "39",
         "5008851",
         "56",
         "Ensino médio",
         "Casado",
         "2",
         "Associado comercial",
         "Motorista",
         "12",
         "112500.0",
         "1",
         "Casa/apartamento próprio"
        ],
        [
         "40",
         "5008852",
         "56",
         "Ensino médio",
         "Casado",
         "2",
         "Associado comercial",
         "Motorista",
         "12",
         "112500.0",
         "1",
         "Casa/apartamento próprio"
        ],
        [
         "41",
         "5008853",
         "56",
         "Ensino médio",
         "Casado",
         "2",
         "Associado comercial",
         "Motorista",
         "12",
         "112500.0",
         "1",
         "Casa/apartamento próprio"
        ],
        [
         "42",
         "6153733",
         "56",
         "Ensino médio",
         "Casado",
         "2",
         "Associado comercial",
         "Motorista",
         "12",
         "112500.0",
         "1",
         "Casa/apartamento próprio"
        ],
        [
         "43",
         "6153734",
         "56",
         "Ensino médio",
         "Casado",
         "2",
         "Associado comercial",
         "Motorista",
         "12",
         "112500.0",
         "1",
         "Casa/apartamento próprio"
        ],
        [
         "44",
         "6153735",
         "56",
         "Ensino médio",
         "Casado",
         "2",
         "Associado comercial",
         "Motorista",
         "12",
         "112500.0",
         "1",
         "Casa/apartamento próprio"
        ],
        [
         "45",
         "5008854",
         "43",
         "Ensino médio",
         "Casado",
         "4",
         "Empregado",
         "Construção Civil",
         "8",
         "135000.0",
         "1",
         "Casa/apartamento próprio"
        ],
        [
         "46",
         "5008855",
         "43",
         "Ensino médio",
         "Casado",
         "4",
         "Empregado",
         "Construção Civil",
         "8",
         "135000.0",
         "1",
         "Casa/apartamento próprio"
        ],
        [
         "47",
         "5008856",
         "43",
         "Ensino médio",
         "Casado",
         "4",
         "Empregado",
         "Construção Civil",
         "8",
         "135000.0",
         "1",
         "Casa/apartamento próprio"
        ],
        [
         "48",
         "5008857",
         "43",
         "Ensino médio",
         "Casado",
         "4",
         "Empregado",
         "Construção Civil",
         "8",
         "135000.0",
         "1",
         "Casa/apartamento próprio"
        ],
        [
         "49",
         "5008858",
         "43",
         "Ensino médio",
         "Casado",
         "4",
         "Empregado",
         "Construção Civil",
         "8",
         "135000.0",
         "1",
         "Casa/apartamento próprio"
        ]
       ],
       "shape": {
        "columns": 11,
        "rows": 438462
       }
      },
      "text/html": [
       "<div>\n",
       "<style scoped>\n",
       "    .dataframe tbody tr th:only-of-type {\n",
       "        vertical-align: middle;\n",
       "    }\n",
       "\n",
       "    .dataframe tbody tr th {\n",
       "        vertical-align: top;\n",
       "    }\n",
       "\n",
       "    .dataframe thead th {\n",
       "        text-align: right;\n",
       "    }\n",
       "</style>\n",
       "<table border=\"1\" class=\"dataframe\">\n",
       "  <thead>\n",
       "    <tr style=\"text-align: right;\">\n",
       "      <th></th>\n",
       "      <th>ID_Cliente</th>\n",
       "      <th>Idade</th>\n",
       "      <th>Grau_escolaridade</th>\n",
       "      <th>Estado_civil</th>\n",
       "      <th>Tamanho_familia</th>\n",
       "      <th>Categoria_de_renda</th>\n",
       "      <th>Ocupacao</th>\n",
       "      <th>Anos_empregado</th>\n",
       "      <th>Rendimento_anual</th>\n",
       "      <th>Tem_carro</th>\n",
       "      <th>Moradia</th>\n",
       "    </tr>\n",
       "  </thead>\n",
       "  <tbody>\n",
       "    <tr>\n",
       "      <th>0</th>\n",
       "      <td>5008805</td>\n",
       "      <td>32</td>\n",
       "      <td>Ensino superior</td>\n",
       "      <td>União-estável</td>\n",
       "      <td>2</td>\n",
       "      <td>Empregado</td>\n",
       "      <td>Outro</td>\n",
       "      <td>12</td>\n",
       "      <td>427500.0</td>\n",
       "      <td>1</td>\n",
       "      <td>Apartamento alugado</td>\n",
       "    </tr>\n",
       "    <tr>\n",
       "      <th>1</th>\n",
       "      <td>5008806</td>\n",
       "      <td>58</td>\n",
       "      <td>Ensino médio</td>\n",
       "      <td>Casado</td>\n",
       "      <td>2</td>\n",
       "      <td>Empregado</td>\n",
       "      <td>Segurança</td>\n",
       "      <td>3</td>\n",
       "      <td>112500.0</td>\n",
       "      <td>1</td>\n",
       "      <td>Casa/apartamento próprio</td>\n",
       "    </tr>\n",
       "    <tr>\n",
       "      <th>2</th>\n",
       "      <td>5008808</td>\n",
       "      <td>52</td>\n",
       "      <td>Ensino superior</td>\n",
       "      <td>Solteiro</td>\n",
       "      <td>1</td>\n",
       "      <td>Associado comercial</td>\n",
       "      <td>Vendas</td>\n",
       "      <td>8</td>\n",
       "      <td>270000.0</td>\n",
       "      <td>0</td>\n",
       "      <td>Casa/apartamento próprio</td>\n",
       "    </tr>\n",
       "    <tr>\n",
       "      <th>3</th>\n",
       "      <td>5008809</td>\n",
       "      <td>52</td>\n",
       "      <td>Ensino médio</td>\n",
       "      <td>Solteiro</td>\n",
       "      <td>1</td>\n",
       "      <td>Associado comercial</td>\n",
       "      <td>Vendas</td>\n",
       "      <td>8</td>\n",
       "      <td>270000.0</td>\n",
       "      <td>0</td>\n",
       "      <td>Casa/apartamento próprio</td>\n",
       "    </tr>\n",
       "    <tr>\n",
       "      <th>4</th>\n",
       "      <td>5008810</td>\n",
       "      <td>52</td>\n",
       "      <td>Ensino médio</td>\n",
       "      <td>Solteiro</td>\n",
       "      <td>1</td>\n",
       "      <td>Associado comercial</td>\n",
       "      <td>Vendas</td>\n",
       "      <td>8</td>\n",
       "      <td>270000.0</td>\n",
       "      <td>0</td>\n",
       "      <td>Casa/apartamento próprio</td>\n",
       "    </tr>\n",
       "    <tr>\n",
       "      <th>...</th>\n",
       "      <td>...</td>\n",
       "      <td>...</td>\n",
       "      <td>...</td>\n",
       "      <td>...</td>\n",
       "      <td>...</td>\n",
       "      <td>...</td>\n",
       "      <td>...</td>\n",
       "      <td>...</td>\n",
       "      <td>...</td>\n",
       "      <td>...</td>\n",
       "      <td>...</td>\n",
       "    </tr>\n",
       "    <tr>\n",
       "      <th>438457</th>\n",
       "      <td>6840104</td>\n",
       "      <td>62</td>\n",
       "      <td>Ensino médio</td>\n",
       "      <td>Divorciado</td>\n",
       "      <td>1</td>\n",
       "      <td>Pensionista</td>\n",
       "      <td>Outro</td>\n",
       "      <td>0</td>\n",
       "      <td>135000.0</td>\n",
       "      <td>0</td>\n",
       "      <td>Casa/apartamento próprio</td>\n",
       "    </tr>\n",
       "    <tr>\n",
       "      <th>438458</th>\n",
       "      <td>6840222</td>\n",
       "      <td>43</td>\n",
       "      <td>Ensino médio</td>\n",
       "      <td>Solteiro</td>\n",
       "      <td>1</td>\n",
       "      <td>Empregado</td>\n",
       "      <td>Construção Civil</td>\n",
       "      <td>8</td>\n",
       "      <td>103500.0</td>\n",
       "      <td>0</td>\n",
       "      <td>Casa/apartamento próprio</td>\n",
       "    </tr>\n",
       "    <tr>\n",
       "      <th>438459</th>\n",
       "      <td>6841878</td>\n",
       "      <td>22</td>\n",
       "      <td>Ensino superior</td>\n",
       "      <td>Solteiro</td>\n",
       "      <td>1</td>\n",
       "      <td>Associado comercial</td>\n",
       "      <td>Vendas</td>\n",
       "      <td>1</td>\n",
       "      <td>54000.0</td>\n",
       "      <td>0</td>\n",
       "      <td>Mora com os pais</td>\n",
       "    </tr>\n",
       "    <tr>\n",
       "      <th>438460</th>\n",
       "      <td>6842765</td>\n",
       "      <td>59</td>\n",
       "      <td>Ensino médio</td>\n",
       "      <td>Casado</td>\n",
       "      <td>2</td>\n",
       "      <td>Pensionista</td>\n",
       "      <td>Outro</td>\n",
       "      <td>0</td>\n",
       "      <td>72000.0</td>\n",
       "      <td>0</td>\n",
       "      <td>Casa/apartamento próprio</td>\n",
       "    </tr>\n",
       "    <tr>\n",
       "      <th>438461</th>\n",
       "      <td>6842885</td>\n",
       "      <td>51</td>\n",
       "      <td>Ensino médio</td>\n",
       "      <td>Casado</td>\n",
       "      <td>2</td>\n",
       "      <td>Empregado</td>\n",
       "      <td>Vendas</td>\n",
       "      <td>3</td>\n",
       "      <td>121500.0</td>\n",
       "      <td>0</td>\n",
       "      <td>Casa/apartamento próprio</td>\n",
       "    </tr>\n",
       "  </tbody>\n",
       "</table>\n",
       "<p>438462 rows × 11 columns</p>\n",
       "</div>"
      ],
      "text/plain": [
       "        ID_Cliente  Idade Grau_escolaridade   Estado_civil  Tamanho_familia  \\\n",
       "0          5008805     32   Ensino superior  União-estável                2   \n",
       "1          5008806     58      Ensino médio         Casado                2   \n",
       "2          5008808     52   Ensino superior       Solteiro                1   \n",
       "3          5008809     52      Ensino médio       Solteiro                1   \n",
       "4          5008810     52      Ensino médio       Solteiro                1   \n",
       "...            ...    ...               ...            ...              ...   \n",
       "438457     6840104     62      Ensino médio     Divorciado                1   \n",
       "438458     6840222     43      Ensino médio       Solteiro                1   \n",
       "438459     6841878     22   Ensino superior       Solteiro                1   \n",
       "438460     6842765     59      Ensino médio         Casado                2   \n",
       "438461     6842885     51      Ensino médio         Casado                2   \n",
       "\n",
       "         Categoria_de_renda          Ocupacao  Anos_empregado  \\\n",
       "0                 Empregado             Outro              12   \n",
       "1                 Empregado         Segurança               3   \n",
       "2       Associado comercial            Vendas               8   \n",
       "3       Associado comercial            Vendas               8   \n",
       "4       Associado comercial            Vendas               8   \n",
       "...                     ...               ...             ...   \n",
       "438457          Pensionista             Outro               0   \n",
       "438458            Empregado  Construção Civil               8   \n",
       "438459  Associado comercial            Vendas               1   \n",
       "438460          Pensionista             Outro               0   \n",
       "438461            Empregado            Vendas               3   \n",
       "\n",
       "        Rendimento_anual  Tem_carro                   Moradia  \n",
       "0               427500.0          1       Apartamento alugado  \n",
       "1               112500.0          1  Casa/apartamento próprio  \n",
       "2               270000.0          0  Casa/apartamento próprio  \n",
       "3               270000.0          0  Casa/apartamento próprio  \n",
       "4               270000.0          0  Casa/apartamento próprio  \n",
       "...                  ...        ...                       ...  \n",
       "438457          135000.0          0  Casa/apartamento próprio  \n",
       "438458          103500.0          0  Casa/apartamento próprio  \n",
       "438459           54000.0          0          Mora com os pais  \n",
       "438460           72000.0          0  Casa/apartamento próprio  \n",
       "438461          121500.0          0  Casa/apartamento próprio  \n",
       "\n",
       "[438462 rows x 11 columns]"
      ]
     },
     "execution_count": 24,
     "metadata": {},
     "output_type": "execute_result"
    }
   ],
   "source": [
    "pd.read_sql_table(\"clientes\", engine)"
   ]
  }
 ],
 "metadata": {
  "kernelspec": {
   "display_name": "Python 3",
   "language": "python",
   "name": "python3"
  },
  "language_info": {
   "codemirror_mode": {
    "name": "ipython",
    "version": 3
   },
   "file_extension": ".py",
   "mimetype": "text/x-python",
   "name": "python",
   "nbconvert_exporter": "python",
   "pygments_lexer": "ipython3",
   "version": "3.13.3"
  }
 },
 "nbformat": 4,
 "nbformat_minor": 5
}
